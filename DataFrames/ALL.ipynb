{
 "cells": [
  {
   "cell_type": "code",
   "execution_count": 2,
   "metadata": {
    "ExecuteTime": {
     "end_time": "2020-11-17T23:14:45.083313Z",
     "start_time": "2020-11-17T23:14:44.818195Z"
    }
   },
   "outputs": [
    {
     "name": "stderr",
     "output_type": "stream",
     "text": [
      "UserWarning: The Dask Engine for Modin is experimental.\n"
     ]
    }
   ],
   "source": [
    "import os\n",
    "import sys\n",
    "import gc\n",
    "from time import time, sleep\n",
    "\n",
    "import pandas as pd\n",
    "import dask.dataframe as dd\n",
    "import modin.pandas as mpd\n",
    "import vaex\n",
    "from pyspark.sql import SparkSession\n",
    "from pyspark.sql.functions import sum, avg\n",
    "# pandas on ray has moved to Modin\n",
    "# import ray.dataframe as rpd"
   ]
  },
  {
   "cell_type": "code",
   "execution_count": 7,
   "metadata": {
    "ExecuteTime": {
     "end_time": "2020-11-17T22:55:27.722264Z",
     "start_time": "2020-11-17T22:55:27.699399Z"
    }
   },
   "outputs": [],
   "source": [
    "# data based on https://www.kaggle.com/c/ieee-fraud-detection/data\n",
    "folder = \"/home/vaclav/Data/Kaggle/EEE-CIS_Fraud_Detection\"\n",
    "files = [\"train_transaction.csv\", \"train_identity.csv\"]\n",
    "paths = [os.path.join(folder, f) for f in files]"
   ]
  },
  {
   "cell_type": "code",
   "execution_count": 4,
   "metadata": {
    "ExecuteTime": {
     "end_time": "2020-11-17T22:55:27.733967Z",
     "start_time": "2020-11-17T22:55:27.727006Z"
    }
   },
   "outputs": [],
   "source": [
    "stats = {}"
   ]
  },
  {
   "cell_type": "markdown",
   "metadata": {},
   "source": [
    "# Pandas"
   ]
  },
  {
   "cell_type": "code",
   "execution_count": 8,
   "metadata": {
    "ExecuteTime": {
     "end_time": "2020-11-17T22:55:27.750077Z",
     "start_time": "2020-11-17T22:55:27.737957Z"
    }
   },
   "outputs": [
    {
     "data": {
      "text/plain": [
       "'1.1.4'"
      ]
     },
     "execution_count": 8,
     "metadata": {},
     "output_type": "execute_result"
    }
   ],
   "source": [
    "pd.__version__"
   ]
  },
  {
   "cell_type": "code",
   "execution_count": 9,
   "metadata": {
    "ExecuteTime": {
     "end_time": "2020-11-17T22:56:19.465362Z",
     "start_time": "2020-11-17T22:55:27.767439Z"
    }
   },
   "outputs": [],
   "source": [
    "stats[\"pandas\"] = {}\n",
    "s = stats[\"pandas\"]\n",
    "\n",
    "ts = time()\n",
    "df = pd.read_csv(paths[0])\n",
    "te = time()\n",
    "s[\"load_transactions\"] = te-ts\n",
    "\n",
    "ts = time()\n",
    "df2 = pd.read_csv(paths[1])\n",
    "te = time()\n",
    "s[\"load_identity\"] = te-ts\n",
    "\n",
    "ts = time()\n",
    "dff = df.merge(df2, on=\"TransactionID\")\n",
    "te = time()\n",
    "s[\"merge\"] = te-ts\n",
    "\n",
    "ts = time()\n",
    "grp = dff[\"isFraud\",\"ProductCD\",\"card4\",\"card6\",\"id_15\",\"id_31\",\"TransactionAmt\"].fillna(\"\")\n",
    ".groupby([\"isFraud\",\"ProductCD\",\"card4\",\"card6\",\"id_15\",\"id_31\"])[\"TransactionAmt\"].agg([\"mean\",\"sum\"])\n",
    "te = time()\n",
    "s[\"aggregation\"] = te-ts\n",
    "\n",
    "ts = time()\n",
    "dff.sort_values(by=[\"card1\",\"addr1\",\"D9\"], inplace=True)\n",
    "dff.sort_values(by=[\"addr1\",\"D9\",\"card1\"], inplace=True)\n",
    "dff.sort_values(by=[\"D9\",\"card1\",\"addr1\"], inplace=True)\n",
    "te = time()\n",
    "s[\"sorting\"] = te-ts"
   ]
  },
  {
   "cell_type": "code",
   "execution_count": 38,
   "metadata": {
    "ExecuteTime": {
     "end_time": "2020-11-17T22:56:19.519391Z",
     "start_time": "2020-11-17T22:56:19.472412Z"
    }
   },
   "outputs": [
    {
     "data": {
      "text/html": [
       "<div>\n",
       "<style scoped>\n",
       "    .dataframe tbody tr th:only-of-type {\n",
       "        vertical-align: middle;\n",
       "    }\n",
       "\n",
       "    .dataframe tbody tr th {\n",
       "        vertical-align: top;\n",
       "    }\n",
       "\n",
       "    .dataframe thead th {\n",
       "        text-align: right;\n",
       "    }\n",
       "</style>\n",
       "<table border=\"1\" class=\"dataframe\">\n",
       "  <thead>\n",
       "    <tr style=\"text-align: right;\">\n",
       "      <th></th>\n",
       "      <th>pandas</th>\n",
       "    </tr>\n",
       "  </thead>\n",
       "  <tbody>\n",
       "    <tr>\n",
       "      <th>aggregation</th>\n",
       "      <td>0.075788</td>\n",
       "    </tr>\n",
       "    <tr>\n",
       "      <th>load_identity</th>\n",
       "      <td>0.682109</td>\n",
       "    </tr>\n",
       "    <tr>\n",
       "      <th>load_transactions</th>\n",
       "      <td>18.279765</td>\n",
       "    </tr>\n",
       "    <tr>\n",
       "      <th>merge</th>\n",
       "      <td>3.196074</td>\n",
       "    </tr>\n",
       "    <tr>\n",
       "      <th>sorting</th>\n",
       "      <td>2.224164</td>\n",
       "    </tr>\n",
       "  </tbody>\n",
       "</table>\n",
       "</div>"
      ],
      "text/plain": [
       "                      pandas\n",
       "aggregation         0.075788\n",
       "load_identity       0.682109\n",
       "load_transactions  18.279765\n",
       "merge               3.196074\n",
       "sorting             2.224164"
      ]
     },
     "execution_count": 38,
     "metadata": {},
     "output_type": "execute_result"
    }
   ],
   "source": [
    "pd.DataFrame(stats)"
   ]
  },
  {
   "cell_type": "code",
   "execution_count": 37,
   "metadata": {},
   "outputs": [],
   "source": [
    "dff.to_pickle(\"data/dff.pkl\")"
   ]
  },
  {
   "cell_type": "code",
   "execution_count": 21,
   "metadata": {},
   "outputs": [
    {
     "data": {
      "text/plain": [
       "(4553, 2)"
      ]
     },
     "execution_count": 21,
     "metadata": {},
     "output_type": "execute_result"
    }
   ],
   "source": [
    "# Because julia groups by including N\\A, let's just check that number of groups matches\n",
    "grp = dff[[\"isFraud\",\"ProductCD\",\"card4\",\"card6\",\"id_15\",\"id_31\",\"TransactionAmt\"]].fillna(\"~U~\")\\\n",
    ".groupby([\"isFraud\",\"ProductCD\",\"card4\",\"card6\",\"id_15\",\"id_31\"])[\"TransactionAmt\"].agg([\"mean\",\"sum\"])\n",
    "grp.shape"
   ]
  },
  {
   "cell_type": "code",
   "execution_count": 39,
   "metadata": {
    "ExecuteTime": {
     "end_time": "2020-11-17T22:56:19.550559Z",
     "start_time": "2020-11-17T22:56:19.524963Z"
    }
   },
   "outputs": [],
   "source": [
    "def clean(wait_time: int=15):\n",
    "    \"\"\"Cleans created DataFrames and call the garbage collector to actions. Wait for 15s by default\"\"\"\n",
    "    df, df2, dff, grp = None, None, None, None\n",
    "    gc.collect()\n",
    "    sleep(wait_time)\n",
    "    return None"
   ]
  },
  {
   "cell_type": "code",
   "execution_count": 40,
   "metadata": {
    "ExecuteTime": {
     "end_time": "2020-11-17T22:56:34.718818Z",
     "start_time": "2020-11-17T22:56:19.559830Z"
    }
   },
   "outputs": [],
   "source": [
    "clean()\n"
   ]
  },
  {
   "cell_type": "code",
   "execution_count": 41,
   "metadata": {
    "ExecuteTime": {
     "end_time": "2020-11-17T22:56:34.813222Z",
     "start_time": "2020-11-17T22:56:34.780299Z"
    }
   },
   "outputs": [],
   "source": [
    "def list_variables_memory_usage() -> dict:\n",
    "    \"\"\"Memory of existing local variables\"\"\"\n",
    "    local_vars = list(locals().items())\n",
    "    return {var: sys.getsizeof(obj) for var, obj in local_vars}"
   ]
  },
  {
   "cell_type": "markdown",
   "metadata": {},
   "source": [
    "# Dask\n",
    "When to use dask - https://docs.dask.org/en/latest/dataframe.html#common-uses-and-anti-uses"
   ]
  },
  {
   "cell_type": "code",
   "execution_count": 42,
   "metadata": {
    "ExecuteTime": {
     "end_time": "2020-11-17T22:57:00.280745Z",
     "start_time": "2020-11-17T22:56:34.844985Z"
    }
   },
   "outputs": [],
   "source": [
    "stats[\"dask\"] = {}\n",
    "s = stats[\"dask\"]\n",
    "\n",
    "ts = time()\n",
    "df = dd.read_csv(paths[0])\n",
    "te = time()\n",
    "s[\"load_transactions\"] = te-ts\n",
    "\n",
    "ts = time()\n",
    "df2 = dd.read_csv(paths[1])\n",
    "te = time()\n",
    "s[\"load_identity\"] = te-ts\n",
    "\n",
    "ts = time()\n",
    "dff = df.merge(df2, on=\"TransactionID\")\n",
    "te = time()\n",
    "s[\"merge\"] = te-ts\n",
    "\n",
    "# the difference is that we call compute method, which runs all the computations at this point\n",
    "ts = time()\n",
    "grp = dff.groupby([\"isFraud\",\"ProductCD\",\"card4\",\"card6\",\"id_15\",\"id_31\"])[\"TransactionAmt\"]\\\n",
    "    .agg([\"mean\",\"sum\"])\\\n",
    "    .compute()\n",
    "te = time()\n",
    "s[\"aggregation\"] = te-ts\n",
    "\n",
    "# parallel soring is tricky that is why there are only work arounds in dask. \n",
    "ts = time()\n",
    "dff.set_index(\"card1\").compute()\n",
    "te = time()\n",
    "s[\"sorting\"] = te-ts\n"
   ]
  },
  {
   "cell_type": "code",
   "execution_count": 43,
   "metadata": {
    "ExecuteTime": {
     "end_time": "2020-11-17T22:57:15.539155Z",
     "start_time": "2020-11-17T22:57:00.286799Z"
    }
   },
   "outputs": [],
   "source": [
    "clean()"
   ]
  },
  {
   "cell_type": "code",
   "execution_count": 44,
   "metadata": {
    "ExecuteTime": {
     "end_time": "2020-11-17T22:57:15.580380Z",
     "start_time": "2020-11-17T22:57:15.546567Z"
    }
   },
   "outputs": [
    {
     "data": {
      "text/html": [
       "<div>\n",
       "<style scoped>\n",
       "    .dataframe tbody tr th:only-of-type {\n",
       "        vertical-align: middle;\n",
       "    }\n",
       "\n",
       "    .dataframe tbody tr th {\n",
       "        vertical-align: top;\n",
       "    }\n",
       "\n",
       "    .dataframe thead th {\n",
       "        text-align: right;\n",
       "    }\n",
       "</style>\n",
       "<table border=\"1\" class=\"dataframe\">\n",
       "  <thead>\n",
       "    <tr style=\"text-align: right;\">\n",
       "      <th></th>\n",
       "      <th>pandas</th>\n",
       "      <th>dask</th>\n",
       "    </tr>\n",
       "  </thead>\n",
       "  <tbody>\n",
       "    <tr>\n",
       "      <th>load_transactions</th>\n",
       "      <td>18.279765</td>\n",
       "      <td>0.083901</td>\n",
       "    </tr>\n",
       "    <tr>\n",
       "      <th>load_identity</th>\n",
       "      <td>0.682109</td>\n",
       "      <td>0.028268</td>\n",
       "    </tr>\n",
       "    <tr>\n",
       "      <th>merge</th>\n",
       "      <td>3.196074</td>\n",
       "      <td>0.073891</td>\n",
       "    </tr>\n",
       "    <tr>\n",
       "      <th>aggregation</th>\n",
       "      <td>0.075788</td>\n",
       "      <td>20.837958</td>\n",
       "    </tr>\n",
       "    <tr>\n",
       "      <th>sorting</th>\n",
       "      <td>2.224164</td>\n",
       "      <td>71.282675</td>\n",
       "    </tr>\n",
       "  </tbody>\n",
       "</table>\n",
       "</div>"
      ],
      "text/plain": [
       "                      pandas       dask\n",
       "load_transactions  18.279765   0.083901\n",
       "load_identity       0.682109   0.028268\n",
       "merge               3.196074   0.073891\n",
       "aggregation         0.075788  20.837958\n",
       "sorting             2.224164  71.282675"
      ]
     },
     "execution_count": 44,
     "metadata": {},
     "output_type": "execute_result"
    }
   ],
   "source": [
    "pd.DataFrame(stats)"
   ]
  },
  {
   "cell_type": "code",
   "execution_count": 45,
   "metadata": {},
   "outputs": [],
   "source": [
    "stats[\"dask_indexed\"] = {}\n",
    "s = stats[\"dask_indexed\"]\n",
    "\n",
    "ts = time()\n",
    "df = dd.read_csv(paths[0]).set_index(\"TransactionID\")\n",
    "te = time()\n",
    "s[\"load_transactions\"] = te-ts\n",
    "\n",
    "ts = time()\n",
    "df2 = dd.read_csv(paths[1]).set_index(\"TransactionID\")\n",
    "te = time()\n",
    "s[\"load_identity\"] = te-ts\n",
    "\n",
    "ts = time()\n",
    "dff = df.merge(df2, left_index=True, right_index=True)\n",
    "te = time()\n",
    "s[\"merge\"] = te-ts\n",
    "\n",
    "# the difference is that we call compute method, which runs all the computations at this point\n",
    "ts = time()\n",
    "grp = dff.groupby([\"isFraud\",\"ProductCD\",\"card4\",\"card6\",\"id_15\",\"id_31\"])[\"TransactionAmt\"]\\\n",
    "    .agg([\"mean\",\"sum\"])\\\n",
    "    .compute()\n",
    "te = time()\n",
    "s[\"aggregation\"] = te-ts\n",
    "\n",
    "# parallel soring is tricky that is why there are only work arounds in dask. \n",
    "ts = time()\n",
    "dff.set_index(\"card1\").compute()\n",
    "te = time()\n",
    "s[\"sorting\"] = te-ts\n"
   ]
  },
  {
   "cell_type": "code",
   "execution_count": 50,
   "metadata": {},
   "outputs": [
    {
     "data": {
      "text/html": [
       "<div>\n",
       "<style scoped>\n",
       "    .dataframe tbody tr th:only-of-type {\n",
       "        vertical-align: middle;\n",
       "    }\n",
       "\n",
       "    .dataframe tbody tr th {\n",
       "        vertical-align: top;\n",
       "    }\n",
       "\n",
       "    .dataframe thead th {\n",
       "        text-align: right;\n",
       "    }\n",
       "</style>\n",
       "<table border=\"1\" class=\"dataframe\">\n",
       "  <thead>\n",
       "    <tr style=\"text-align: right;\">\n",
       "      <th></th>\n",
       "      <th>pandas</th>\n",
       "      <th>dask</th>\n",
       "      <th>dask_indexed</th>\n",
       "      <th>vaex</th>\n",
       "    </tr>\n",
       "  </thead>\n",
       "  <tbody>\n",
       "    <tr>\n",
       "      <th>load_transactions</th>\n",
       "      <td>18.279765</td>\n",
       "      <td>0.083901</td>\n",
       "      <td>14.930128</td>\n",
       "      <td>NaN</td>\n",
       "    </tr>\n",
       "    <tr>\n",
       "      <th>load_identity</th>\n",
       "      <td>0.682109</td>\n",
       "      <td>0.028268</td>\n",
       "      <td>0.761821</td>\n",
       "      <td>NaN</td>\n",
       "    </tr>\n",
       "    <tr>\n",
       "      <th>merge</th>\n",
       "      <td>3.196074</td>\n",
       "      <td>0.073891</td>\n",
       "      <td>0.078762</td>\n",
       "      <td>NaN</td>\n",
       "    </tr>\n",
       "    <tr>\n",
       "      <th>aggregation</th>\n",
       "      <td>0.075788</td>\n",
       "      <td>20.837958</td>\n",
       "      <td>23.130105</td>\n",
       "      <td>NaN</td>\n",
       "    </tr>\n",
       "    <tr>\n",
       "      <th>sorting</th>\n",
       "      <td>2.224164</td>\n",
       "      <td>71.282675</td>\n",
       "      <td>75.393628</td>\n",
       "      <td>NaN</td>\n",
       "    </tr>\n",
       "  </tbody>\n",
       "</table>\n",
       "</div>"
      ],
      "text/plain": [
       "                      pandas       dask  dask_indexed  vaex\n",
       "load_transactions  18.279765   0.083901     14.930128   NaN\n",
       "load_identity       0.682109   0.028268      0.761821   NaN\n",
       "merge               3.196074   0.073891      0.078762   NaN\n",
       "aggregation         0.075788  20.837958     23.130105   NaN\n",
       "sorting             2.224164  71.282675     75.393628   NaN"
      ]
     },
     "execution_count": 50,
     "metadata": {},
     "output_type": "execute_result"
    }
   ],
   "source": [
    "clean()\n",
    "pd.DataFrame(stats)"
   ]
  },
  {
   "cell_type": "markdown",
   "metadata": {
    "ExecuteTime": {
     "end_time": "2020-11-17T22:29:19.438715Z",
     "start_time": "2020-11-17T22:29:19.429209Z"
    }
   },
   "source": [
    "# Vaex"
   ]
  },
  {
   "cell_type": "code",
   "execution_count": 97,
   "metadata": {
    "ExecuteTime": {
     "end_time": "2020-11-17T23:03:06.560013Z",
     "start_time": "2020-11-17T23:03:06.545427Z"
    }
   },
   "outputs": [
    {
     "data": {
      "text/plain": [
       "{'vaex-core': '2.0.3',\n",
       " 'vaex-viz': '0.4.0',\n",
       " 'vaex-hdf5': '0.6.0',\n",
       " 'vaex-server': '0.3.1',\n",
       " 'vaex-astro': '0.7.0',\n",
       " 'vaex-jupyter': '0.5.2',\n",
       " 'vaex-ml': '0.9.0',\n",
       " 'vaex-arrow': '0.5.1'}"
      ]
     },
     "execution_count": 97,
     "metadata": {},
     "output_type": "execute_result"
    }
   ],
   "source": [
    "vaex.__version__"
   ]
  },
  {
   "cell_type": "code",
   "execution_count": 98,
   "metadata": {
    "ExecuteTime": {
     "end_time": "2020-11-17T23:04:01.165275Z",
     "start_time": "2020-11-17T23:03:06.562006Z"
    }
   },
   "outputs": [],
   "source": [
    "tool = \"vaex\"\n",
    "stats[tool] = {}\n",
    "s = stats[tool]\n",
    "\n",
    "\n",
    "ts = time()\n",
    "df = vaex.open(paths[0])\n",
    "te = time()\n",
    "s[\"load_transactions\"] = te-ts\n",
    "\n",
    "ts = time()\n",
    "df2 = vaex.open(paths[1])\n",
    "te = time()\n",
    "s[\"load_identity\"] = te-ts\n"
   ]
  },
  {
   "cell_type": "code",
   "execution_count": 99,
   "metadata": {
    "ExecuteTime": {
     "end_time": "2020-11-17T23:04:01.642707Z",
     "start_time": "2020-11-17T23:04:01.176085Z"
    }
   },
   "outputs": [],
   "source": [
    "ts = time()\n",
    "dff = df.join(df2, on=\"TransactionID\")\n",
    "te = time()\n",
    "s[\"merge\"] = te-ts"
   ]
  },
  {
   "cell_type": "code",
   "execution_count": 100,
   "metadata": {
    "ExecuteTime": {
     "end_time": "2020-11-17T23:04:03.395316Z",
     "start_time": "2020-11-17T23:04:01.645742Z"
    }
   },
   "outputs": [],
   "source": [
    "# the difference is that we call compute method, which runs all the computations at this point\n",
    "ts = time()\n",
    "grp = dff.groupby([dff[\"isFraud\"],dff[\"ProductCD\"],dff[\"card4\"],dff[\"card6\"],dff[\"id_15\"],dff[\"id_31\"]], \n",
    "                  agg=[vaex.agg.mean('TransactionAmt'), vaex.agg.sum('TransactionAmt')])\n",
    "te = time()\n",
    "s[\"aggregation\"] = te-ts\n"
   ]
  },
  {
   "cell_type": "code",
   "execution_count": 111,
   "metadata": {},
   "outputs": [],
   "source": [
    "# the difference is that we call compute method, which runs all the computations at this point\n",
    "ts = time()\n",
    "dff_s = dff.sort(by=[\"card1\",\"addr1\",\"D9\"])\n",
    "dff_s = dff.sort(by=[\"addr1\",\"D9\",\"card1\"])\n",
    "dff_s = dff.sort(by=[\"D9\",\"card1\",\"addr1\"])\n",
    "te = time()\n",
    "s[\"sorting\"] = te-ts"
   ]
  },
  {
   "cell_type": "code",
   "execution_count": 113,
   "metadata": {
    "ExecuteTime": {
     "end_time": "2020-11-17T23:04:03.469428Z",
     "start_time": "2020-11-17T23:04:03.423857Z"
    }
   },
   "outputs": [
    {
     "data": {
      "text/html": [
       "<div>\n",
       "<style scoped>\n",
       "    .dataframe tbody tr th:only-of-type {\n",
       "        vertical-align: middle;\n",
       "    }\n",
       "\n",
       "    .dataframe tbody tr th {\n",
       "        vertical-align: top;\n",
       "    }\n",
       "\n",
       "    .dataframe thead th {\n",
       "        text-align: right;\n",
       "    }\n",
       "</style>\n",
       "<table border=\"1\" class=\"dataframe\">\n",
       "  <thead>\n",
       "    <tr style=\"text-align: right;\">\n",
       "      <th></th>\n",
       "      <th>pandas</th>\n",
       "      <th>dask</th>\n",
       "      <th>dask_indexed</th>\n",
       "      <th>vaex</th>\n",
       "    </tr>\n",
       "  </thead>\n",
       "  <tbody>\n",
       "    <tr>\n",
       "      <th>load_transactions</th>\n",
       "      <td>18.279765</td>\n",
       "      <td>0.083901</td>\n",
       "      <td>14.930128</td>\n",
       "      <td>18.734002</td>\n",
       "    </tr>\n",
       "    <tr>\n",
       "      <th>load_identity</th>\n",
       "      <td>0.682109</td>\n",
       "      <td>0.028268</td>\n",
       "      <td>0.761821</td>\n",
       "      <td>1.023915</td>\n",
       "    </tr>\n",
       "    <tr>\n",
       "      <th>merge</th>\n",
       "      <td>3.196074</td>\n",
       "      <td>0.073891</td>\n",
       "      <td>0.078762</td>\n",
       "      <td>0.131490</td>\n",
       "    </tr>\n",
       "    <tr>\n",
       "      <th>aggregation</th>\n",
       "      <td>0.075788</td>\n",
       "      <td>20.837958</td>\n",
       "      <td>23.130105</td>\n",
       "      <td>0.383996</td>\n",
       "    </tr>\n",
       "    <tr>\n",
       "      <th>sorting</th>\n",
       "      <td>2.224164</td>\n",
       "      <td>71.282675</td>\n",
       "      <td>75.393628</td>\n",
       "      <td>1.035000</td>\n",
       "    </tr>\n",
       "    <tr>\n",
       "      <th>sort</th>\n",
       "      <td>NaN</td>\n",
       "      <td>NaN</td>\n",
       "      <td>NaN</td>\n",
       "      <td>0.329828</td>\n",
       "    </tr>\n",
       "  </tbody>\n",
       "</table>\n",
       "</div>"
      ],
      "text/plain": [
       "                      pandas       dask  dask_indexed       vaex\n",
       "load_transactions  18.279765   0.083901     14.930128  18.734002\n",
       "load_identity       0.682109   0.028268      0.761821   1.023915\n",
       "merge               3.196074   0.073891      0.078762   0.131490\n",
       "aggregation         0.075788  20.837958     23.130105   0.383996\n",
       "sorting             2.224164  71.282675     75.393628   1.035000\n",
       "sort                     NaN        NaN           NaN   0.329828"
      ]
     },
     "execution_count": 113,
     "metadata": {},
     "output_type": "execute_result"
    }
   ],
   "source": [
    "pd.DataFrame(stats)"
   ]
  },
  {
   "cell_type": "code",
   "execution_count": 24,
   "metadata": {
    "ExecuteTime": {
     "end_time": "2020-11-17T23:04:18.930053Z",
     "start_time": "2020-11-17T23:04:03.543914Z"
    }
   },
   "outputs": [],
   "source": [
    "clean()"
   ]
  },
  {
   "cell_type": "markdown",
   "metadata": {},
   "source": [
    "# PySpark"
   ]
  },
  {
   "cell_type": "code",
   "execution_count": 25,
   "metadata": {
    "ExecuteTime": {
     "end_time": "2020-11-17T23:04:27.010489Z",
     "start_time": "2020-11-17T23:04:18.932048Z"
    }
   },
   "outputs": [],
   "source": [
    "from pyspark import SparkContext\n",
    "sc = SparkContext()\n",
    "sc.version\n",
    "sc.stop()"
   ]
  },
  {
   "cell_type": "code",
   "execution_count": 26,
   "metadata": {
    "ExecuteTime": {
     "end_time": "2020-11-17T23:04:29.416261Z",
     "start_time": "2020-11-17T23:04:27.011485Z"
    }
   },
   "outputs": [],
   "source": [
    "# Create my_spark\n",
    "my_spark = SparkSession.builder \\\n",
    "    .master(\"local\") \\\n",
    "    .appName(\"Pandas Alternative\") \\\n",
    "    .config(\"spark.some.config.option\", \"some-value\") \\\n",
    "    .getOrCreate()"
   ]
  },
  {
   "cell_type": "code",
   "execution_count": 27,
   "metadata": {
    "ExecuteTime": {
     "end_time": "2020-11-17T23:05:33.528531Z",
     "start_time": "2020-11-17T23:04:29.419253Z"
    }
   },
   "outputs": [],
   "source": [
    "tool = \"spark\"\n",
    "stats[tool] = {}\n",
    "s = stats[tool]\n",
    "\n",
    "\n",
    "ts = time()\n",
    "df = my_spark.read.csv(paths[0],inferSchema = True,header= True) \n",
    "te = time()\n",
    "s[\"load_transactions\"] = te-ts\n",
    "\n",
    "ts = time()\n",
    "df2 = my_spark.read.csv(paths[1],inferSchema = True,header= True) \n",
    "te = time()\n",
    "s[\"load_identity\"] = te-ts"
   ]
  },
  {
   "cell_type": "code",
   "execution_count": 28,
   "metadata": {
    "ExecuteTime": {
     "end_time": "2020-11-17T23:05:33.849489Z",
     "start_time": "2020-11-17T23:05:33.534687Z"
    }
   },
   "outputs": [],
   "source": [
    "\n",
    "ts = time()\n",
    "dff = df.join(df2, \"TransactionID\")\n",
    "te = time()\n",
    "s[\"merge\"] = te-ts"
   ]
  },
  {
   "cell_type": "code",
   "execution_count": 29,
   "metadata": {
    "ExecuteTime": {
     "end_time": "2020-11-17T23:06:01.148952Z",
     "start_time": "2020-11-17T23:05:33.851490Z"
    }
   },
   "outputs": [],
   "source": [
    "# the difference is that we call collect method, which runs all the computations at this point\n",
    "#ts = time()\n",
    "#grp = dff.groupby([dff[\"isFraud\"],dff[\"ProductCD\"],dff[\"card4\"],dff[\"card6\"],dff[\"id_15\"],dff[\"id_31\"]]) \\\n",
    "#        .agg(avg(\"TransactionAmt\"), sum(\"TransactionAmt\"))\\\n",
    "#        .collect()\n",
    "#te = time()\n",
    "#s[\"aggregation\"] = te-ts\n",
    "#s[\"all\"] = te-tss"
   ]
  },
  {
   "cell_type": "code",
   "execution_count": 33,
   "metadata": {
    "ExecuteTime": {
     "end_time": "2020-11-17T23:13:24.332254Z",
     "start_time": "2020-11-17T23:13:03.641149Z"
    }
   },
   "outputs": [],
   "source": [
    "# the difference is that we call collect method, which runs all the computations at this point\n",
    "ts = time()\n",
    "grp = dff.groupby([\"isFraud\",\"ProductCD\",\"card4\",\"card6\",\"id_15\",\"id_31\"]) \\\n",
    "        .agg(avg(\"TransactionAmt\"), sum(\"TransactionAmt\"))\\\n",
    "        .collect()\n",
    "te = time()\n",
    "s[\"aggregation\"] = te-ts\n"
   ]
  },
  {
   "cell_type": "code",
   "execution_count": 16,
   "metadata": {
    "ExecuteTime": {
     "end_time": "2020-11-17T23:06:25.157340Z",
     "start_time": "2020-11-17T23:06:25.118349Z"
    }
   },
   "outputs": [
    {
     "data": {
      "text/html": [
       "<div>\n",
       "<style scoped>\n",
       "    .dataframe tbody tr th:only-of-type {\n",
       "        vertical-align: middle;\n",
       "    }\n",
       "\n",
       "    .dataframe tbody tr th {\n",
       "        vertical-align: top;\n",
       "    }\n",
       "\n",
       "    .dataframe thead th {\n",
       "        text-align: right;\n",
       "    }\n",
       "</style>\n",
       "<table border=\"1\" class=\"dataframe\">\n",
       "  <thead>\n",
       "    <tr style=\"text-align: right;\">\n",
       "      <th></th>\n",
       "      <th>pandas</th>\n",
       "    </tr>\n",
       "  </thead>\n",
       "  <tbody>\n",
       "    <tr>\n",
       "      <th>aggregation</th>\n",
       "      <td>0.060114</td>\n",
       "    </tr>\n",
       "    <tr>\n",
       "      <th>all</th>\n",
       "      <td>19.908346</td>\n",
       "    </tr>\n",
       "    <tr>\n",
       "      <th>load_identity</th>\n",
       "      <td>0.480164</td>\n",
       "    </tr>\n",
       "    <tr>\n",
       "      <th>load_transactions</th>\n",
       "      <td>17.354527</td>\n",
       "    </tr>\n",
       "    <tr>\n",
       "      <th>merge</th>\n",
       "      <td>2.013150</td>\n",
       "    </tr>\n",
       "    <tr>\n",
       "      <th>Total</th>\n",
       "      <td>39.816302</td>\n",
       "    </tr>\n",
       "  </tbody>\n",
       "</table>\n",
       "</div>"
      ],
      "text/plain": [
       "                      pandas\n",
       "aggregation         0.060114\n",
       "all                19.908346\n",
       "load_identity       0.480164\n",
       "load_transactions  17.354527\n",
       "merge               2.013150\n",
       "Total              39.816302"
      ]
     },
     "execution_count": 16,
     "metadata": {},
     "output_type": "execute_result"
    }
   ],
   "source": [
    "stats_df = pd.DataFrame(stats)\n",
    "stats_df.loc['Total'] = stats_df.sum()\n",
    "stats_df"
   ]
  },
  {
   "cell_type": "markdown",
   "metadata": {
    "ExecuteTime": {
     "end_time": "2020-11-17T22:16:19.569545Z",
     "start_time": "2020-11-17T22:16:19.559625Z"
    }
   },
   "source": [
    "# Modin"
   ]
  },
  {
   "cell_type": "code",
   "execution_count": 13,
   "metadata": {
    "ExecuteTime": {
     "end_time": "2020-11-17T22:57:15.609009Z",
     "start_time": "2020-11-17T22:57:15.586070Z"
    }
   },
   "outputs": [
    {
     "data": {
      "text/plain": [
       "'0.8.2'"
      ]
     },
     "execution_count": 13,
     "metadata": {},
     "output_type": "execute_result"
    }
   ],
   "source": [
    "mpd.__version__"
   ]
  },
  {
   "cell_type": "code",
   "execution_count": 15,
   "metadata": {
    "ExecuteTime": {
     "end_time": "2020-11-17T23:00:06.292260Z",
     "start_time": "2020-11-17T22:58:42.702035Z"
    }
   },
   "outputs": [
    {
     "name": "stderr",
     "output_type": "stream",
     "text": [
      "distributed.nanny - WARNING - Worker exceeded 95% memory budget. Restarting\n",
      "distributed.nanny - WARNING - Restarting worker\n",
      "distributed.nanny - WARNING - Worker exceeded 95% memory budget. Restarting\n",
      "distributed.nanny - WARNING - Restarting worker\n",
      "distributed.nanny - WARNING - Worker exceeded 95% memory budget. Restarting\n",
      "distributed.nanny - WARNING - Restarting worker\n",
      "distributed.nanny - WARNING - Worker exceeded 95% memory budget. Restarting\n",
      "distributed.nanny - WARNING - Restarting worker\n",
      "distributed.nanny - WARNING - Worker exceeded 95% memory budget. Restarting\n",
      "distributed.nanny - WARNING - Restarting worker\n",
      "distributed.nanny - WARNING - Worker exceeded 95% memory budget. Restarting\n"
     ]
    },
    {
     "ename": "KilledWorker",
     "evalue": "('lambda-dc847cac2df298f0ded2b3e426e3824d', <Worker 'tcp://127.0.0.1:56445', name: 7, memory: 0, processing: 3>)",
     "output_type": "error",
     "traceback": [
      "\u001b[1;31m---------------------------------------------------------------------------\u001b[0m",
      "\u001b[1;31mKilledWorker\u001b[0m                              Traceback (most recent call last)",
      "\u001b[1;32m<ipython-input-15-7c0f6249d513>\u001b[0m in \u001b[0;36m<module>\u001b[1;34m\u001b[0m\n\u001b[0;32m      5\u001b[0m \u001b[1;33m\u001b[0m\u001b[0m\n\u001b[0;32m      6\u001b[0m \u001b[0mts\u001b[0m \u001b[1;33m=\u001b[0m \u001b[0mtime\u001b[0m\u001b[1;33m(\u001b[0m\u001b[1;33m)\u001b[0m\u001b[1;33m\u001b[0m\u001b[1;33m\u001b[0m\u001b[0m\n\u001b[1;32m----> 7\u001b[1;33m \u001b[0mdf\u001b[0m \u001b[1;33m=\u001b[0m \u001b[0mmpd\u001b[0m\u001b[1;33m.\u001b[0m\u001b[0mread_csv\u001b[0m\u001b[1;33m(\u001b[0m\u001b[0mpaths\u001b[0m\u001b[1;33m[\u001b[0m\u001b[1;36m0\u001b[0m\u001b[1;33m]\u001b[0m\u001b[1;33m)\u001b[0m\u001b[1;33m\u001b[0m\u001b[1;33m\u001b[0m\u001b[0m\n\u001b[0m\u001b[0;32m      8\u001b[0m \u001b[0mte\u001b[0m \u001b[1;33m=\u001b[0m \u001b[0mtime\u001b[0m\u001b[1;33m(\u001b[0m\u001b[1;33m)\u001b[0m\u001b[1;33m\u001b[0m\u001b[1;33m\u001b[0m\u001b[0m\n\u001b[0;32m      9\u001b[0m \u001b[0ms\u001b[0m\u001b[1;33m[\u001b[0m\u001b[1;34m\"load_transactions\"\u001b[0m\u001b[1;33m]\u001b[0m \u001b[1;33m=\u001b[0m \u001b[0mte\u001b[0m\u001b[1;33m-\u001b[0m\u001b[0mts\u001b[0m\u001b[1;33m\u001b[0m\u001b[1;33m\u001b[0m\u001b[0m\n",
      "\u001b[1;32m~\\Anaconda3\\envs\\big_tables\\lib\\site-packages\\modin\\pandas\\io.py\u001b[0m in \u001b[0;36mparser_func\u001b[1;34m(filepath_or_buffer, sep, delimiter, header, names, index_col, usecols, squeeze, prefix, mangle_dupe_cols, dtype, engine, converters, true_values, false_values, skipinitialspace, skiprows, nrows, na_values, keep_default_na, na_filter, verbose, skip_blank_lines, parse_dates, infer_datetime_format, keep_date_col, date_parser, dayfirst, cache_dates, iterator, chunksize, compression, thousands, decimal, lineterminator, quotechar, quoting, escapechar, comment, encoding, dialect, error_bad_lines, warn_bad_lines, skipfooter, doublequote, delim_whitespace, low_memory, memory_map, float_precision)\u001b[0m\n\u001b[0;32m    107\u001b[0m         \u001b[1;32mif\u001b[0m \u001b[0mkwargs\u001b[0m\u001b[1;33m.\u001b[0m\u001b[0mget\u001b[0m\u001b[1;33m(\u001b[0m\u001b[1;34m\"sep\"\u001b[0m\u001b[1;33m,\u001b[0m \u001b[0msep\u001b[0m\u001b[1;33m)\u001b[0m \u001b[1;32mis\u001b[0m \u001b[1;32mFalse\u001b[0m\u001b[1;33m:\u001b[0m\u001b[1;33m\u001b[0m\u001b[1;33m\u001b[0m\u001b[0m\n\u001b[0;32m    108\u001b[0m             \u001b[0mkwargs\u001b[0m\u001b[1;33m[\u001b[0m\u001b[1;34m\"sep\"\u001b[0m\u001b[1;33m]\u001b[0m \u001b[1;33m=\u001b[0m \u001b[1;34m\"\\t\"\u001b[0m\u001b[1;33m\u001b[0m\u001b[1;33m\u001b[0m\u001b[0m\n\u001b[1;32m--> 109\u001b[1;33m         \u001b[1;32mreturn\u001b[0m \u001b[0m_read\u001b[0m\u001b[1;33m(\u001b[0m\u001b[1;33m**\u001b[0m\u001b[0mkwargs\u001b[0m\u001b[1;33m)\u001b[0m\u001b[1;33m\u001b[0m\u001b[1;33m\u001b[0m\u001b[0m\n\u001b[0m\u001b[0;32m    110\u001b[0m \u001b[1;33m\u001b[0m\u001b[0m\n\u001b[0;32m    111\u001b[0m     \u001b[1;32mreturn\u001b[0m \u001b[0mparser_func\u001b[0m\u001b[1;33m\u001b[0m\u001b[1;33m\u001b[0m\u001b[0m\n",
      "\u001b[1;32m~\\Anaconda3\\envs\\big_tables\\lib\\site-packages\\modin\\pandas\\io.py\u001b[0m in \u001b[0;36m_read\u001b[1;34m(**kwargs)\u001b[0m\n\u001b[0;32m    125\u001b[0m     \u001b[1;32mfrom\u001b[0m \u001b[0mmodin\u001b[0m\u001b[1;33m.\u001b[0m\u001b[0mdata_management\u001b[0m\u001b[1;33m.\u001b[0m\u001b[0mfactories\u001b[0m\u001b[1;33m.\u001b[0m\u001b[0mdispatcher\u001b[0m \u001b[1;32mimport\u001b[0m \u001b[0mEngineDispatcher\u001b[0m\u001b[1;33m\u001b[0m\u001b[1;33m\u001b[0m\u001b[0m\n\u001b[0;32m    126\u001b[0m \u001b[1;33m\u001b[0m\u001b[0m\n\u001b[1;32m--> 127\u001b[1;33m     \u001b[0mpd_obj\u001b[0m \u001b[1;33m=\u001b[0m \u001b[0mEngineDispatcher\u001b[0m\u001b[1;33m.\u001b[0m\u001b[0mread_csv\u001b[0m\u001b[1;33m(\u001b[0m\u001b[1;33m**\u001b[0m\u001b[0mkwargs\u001b[0m\u001b[1;33m)\u001b[0m\u001b[1;33m\u001b[0m\u001b[1;33m\u001b[0m\u001b[0m\n\u001b[0m\u001b[0;32m    128\u001b[0m     \u001b[1;31m# This happens when `read_csv` returns a TextFileReader object for iterating through\u001b[0m\u001b[1;33m\u001b[0m\u001b[1;33m\u001b[0m\u001b[1;33m\u001b[0m\u001b[0m\n\u001b[0;32m    129\u001b[0m     \u001b[1;32mif\u001b[0m \u001b[0misinstance\u001b[0m\u001b[1;33m(\u001b[0m\u001b[0mpd_obj\u001b[0m\u001b[1;33m,\u001b[0m \u001b[0mpandas\u001b[0m\u001b[1;33m.\u001b[0m\u001b[0mio\u001b[0m\u001b[1;33m.\u001b[0m\u001b[0mparsers\u001b[0m\u001b[1;33m.\u001b[0m\u001b[0mTextFileReader\u001b[0m\u001b[1;33m)\u001b[0m\u001b[1;33m:\u001b[0m\u001b[1;33m\u001b[0m\u001b[1;33m\u001b[0m\u001b[0m\n",
      "\u001b[1;32m~\\Anaconda3\\envs\\big_tables\\lib\\site-packages\\modin\\data_management\\factories\\dispatcher.py\u001b[0m in \u001b[0;36mread_csv\u001b[1;34m(cls, **kwargs)\u001b[0m\n\u001b[0;32m    102\u001b[0m     \u001b[1;33m@\u001b[0m\u001b[0mclassmethod\u001b[0m\u001b[1;33m\u001b[0m\u001b[1;33m\u001b[0m\u001b[0m\n\u001b[0;32m    103\u001b[0m     \u001b[1;32mdef\u001b[0m \u001b[0mread_csv\u001b[0m\u001b[1;33m(\u001b[0m\u001b[0mcls\u001b[0m\u001b[1;33m,\u001b[0m \u001b[1;33m**\u001b[0m\u001b[0mkwargs\u001b[0m\u001b[1;33m)\u001b[0m\u001b[1;33m:\u001b[0m\u001b[1;33m\u001b[0m\u001b[1;33m\u001b[0m\u001b[0m\n\u001b[1;32m--> 104\u001b[1;33m         \u001b[1;32mreturn\u001b[0m \u001b[0mcls\u001b[0m\u001b[1;33m.\u001b[0m\u001b[0m__engine\u001b[0m\u001b[1;33m.\u001b[0m\u001b[0m_read_csv\u001b[0m\u001b[1;33m(\u001b[0m\u001b[1;33m**\u001b[0m\u001b[0mkwargs\u001b[0m\u001b[1;33m)\u001b[0m\u001b[1;33m\u001b[0m\u001b[1;33m\u001b[0m\u001b[0m\n\u001b[0m\u001b[0;32m    105\u001b[0m \u001b[1;33m\u001b[0m\u001b[0m\n\u001b[0;32m    106\u001b[0m     \u001b[1;33m@\u001b[0m\u001b[0mclassmethod\u001b[0m\u001b[1;33m\u001b[0m\u001b[1;33m\u001b[0m\u001b[0m\n",
      "\u001b[1;32m~\\Anaconda3\\envs\\big_tables\\lib\\site-packages\\modin\\data_management\\factories\\factories.py\u001b[0m in \u001b[0;36m_read_csv\u001b[1;34m(cls, **kwargs)\u001b[0m\n\u001b[0;32m     85\u001b[0m     \u001b[1;33m@\u001b[0m\u001b[0mclassmethod\u001b[0m\u001b[1;33m\u001b[0m\u001b[1;33m\u001b[0m\u001b[0m\n\u001b[0;32m     86\u001b[0m     \u001b[1;32mdef\u001b[0m \u001b[0m_read_csv\u001b[0m\u001b[1;33m(\u001b[0m\u001b[0mcls\u001b[0m\u001b[1;33m,\u001b[0m \u001b[1;33m**\u001b[0m\u001b[0mkwargs\u001b[0m\u001b[1;33m)\u001b[0m\u001b[1;33m:\u001b[0m\u001b[1;33m\u001b[0m\u001b[1;33m\u001b[0m\u001b[0m\n\u001b[1;32m---> 87\u001b[1;33m         \u001b[1;32mreturn\u001b[0m \u001b[0mcls\u001b[0m\u001b[1;33m.\u001b[0m\u001b[0mio_cls\u001b[0m\u001b[1;33m.\u001b[0m\u001b[0mread_csv\u001b[0m\u001b[1;33m(\u001b[0m\u001b[1;33m**\u001b[0m\u001b[0mkwargs\u001b[0m\u001b[1;33m)\u001b[0m\u001b[1;33m\u001b[0m\u001b[1;33m\u001b[0m\u001b[0m\n\u001b[0m\u001b[0;32m     88\u001b[0m \u001b[1;33m\u001b[0m\u001b[0m\n\u001b[0;32m     89\u001b[0m     \u001b[1;33m@\u001b[0m\u001b[0mclassmethod\u001b[0m\u001b[1;33m\u001b[0m\u001b[1;33m\u001b[0m\u001b[0m\n",
      "\u001b[1;32m~\\Anaconda3\\envs\\big_tables\\lib\\site-packages\\modin\\engines\\base\\io\\file_reader.py\u001b[0m in \u001b[0;36mread\u001b[1;34m(cls, *args, **kwargs)\u001b[0m\n\u001b[0;32m     27\u001b[0m     \u001b[1;33m@\u001b[0m\u001b[0mclassmethod\u001b[0m\u001b[1;33m\u001b[0m\u001b[1;33m\u001b[0m\u001b[0m\n\u001b[0;32m     28\u001b[0m     \u001b[1;32mdef\u001b[0m \u001b[0mread\u001b[0m\u001b[1;33m(\u001b[0m\u001b[0mcls\u001b[0m\u001b[1;33m,\u001b[0m \u001b[1;33m*\u001b[0m\u001b[0margs\u001b[0m\u001b[1;33m,\u001b[0m \u001b[1;33m**\u001b[0m\u001b[0mkwargs\u001b[0m\u001b[1;33m)\u001b[0m\u001b[1;33m:\u001b[0m\u001b[1;33m\u001b[0m\u001b[1;33m\u001b[0m\u001b[0m\n\u001b[1;32m---> 29\u001b[1;33m         \u001b[0mquery_compiler\u001b[0m \u001b[1;33m=\u001b[0m \u001b[0mcls\u001b[0m\u001b[1;33m.\u001b[0m\u001b[0m_read\u001b[0m\u001b[1;33m(\u001b[0m\u001b[1;33m*\u001b[0m\u001b[0margs\u001b[0m\u001b[1;33m,\u001b[0m \u001b[1;33m**\u001b[0m\u001b[0mkwargs\u001b[0m\u001b[1;33m)\u001b[0m\u001b[1;33m\u001b[0m\u001b[1;33m\u001b[0m\u001b[0m\n\u001b[0m\u001b[0;32m     30\u001b[0m         \u001b[1;31m# TODO (devin-petersohn): Make this section more general for non-pandas kernel\u001b[0m\u001b[1;33m\u001b[0m\u001b[1;33m\u001b[0m\u001b[1;33m\u001b[0m\u001b[0m\n\u001b[0;32m     31\u001b[0m         \u001b[1;31m# implementations.\u001b[0m\u001b[1;33m\u001b[0m\u001b[1;33m\u001b[0m\u001b[1;33m\u001b[0m\u001b[0m\n",
      "\u001b[1;32m~\\Anaconda3\\envs\\big_tables\\lib\\site-packages\\modin\\engines\\base\\io\\text\\csv_reader.py\u001b[0m in \u001b[0;36m_read\u001b[1;34m(cls, filepath_or_buffer, **kwargs)\u001b[0m\n\u001b[0;32m    174\u001b[0m         \u001b[1;31m# or based on the column(s) that were requested.\u001b[0m\u001b[1;33m\u001b[0m\u001b[1;33m\u001b[0m\u001b[1;33m\u001b[0m\u001b[0m\n\u001b[0;32m    175\u001b[0m         \u001b[1;32mif\u001b[0m \u001b[0mindex_col\u001b[0m \u001b[1;32mis\u001b[0m \u001b[1;32mNone\u001b[0m\u001b[1;33m:\u001b[0m\u001b[1;33m\u001b[0m\u001b[1;33m\u001b[0m\u001b[0m\n\u001b[1;32m--> 176\u001b[1;33m             \u001b[0mrow_lengths\u001b[0m \u001b[1;33m=\u001b[0m \u001b[0mcls\u001b[0m\u001b[1;33m.\u001b[0m\u001b[0mmaterialize\u001b[0m\u001b[1;33m(\u001b[0m\u001b[0mindex_ids\u001b[0m\u001b[1;33m)\u001b[0m\u001b[1;33m\u001b[0m\u001b[1;33m\u001b[0m\u001b[0m\n\u001b[0m\u001b[0;32m    177\u001b[0m             \u001b[0mnew_index\u001b[0m \u001b[1;33m=\u001b[0m \u001b[0mpandas\u001b[0m\u001b[1;33m.\u001b[0m\u001b[0mRangeIndex\u001b[0m\u001b[1;33m(\u001b[0m\u001b[0msum\u001b[0m\u001b[1;33m(\u001b[0m\u001b[0mrow_lengths\u001b[0m\u001b[1;33m)\u001b[0m\u001b[1;33m)\u001b[0m\u001b[1;33m\u001b[0m\u001b[1;33m\u001b[0m\u001b[0m\n\u001b[0;32m    178\u001b[0m         \u001b[1;32melse\u001b[0m\u001b[1;33m:\u001b[0m\u001b[1;33m\u001b[0m\u001b[1;33m\u001b[0m\u001b[0m\n",
      "\u001b[1;32m~\\Anaconda3\\envs\\big_tables\\lib\\site-packages\\modin\\engines\\dask\\task_wrapper.py\u001b[0m in \u001b[0;36mmaterialize\u001b[1;34m(cls, future)\u001b[0m\n\u001b[0;32m     28\u001b[0m     \u001b[1;32mdef\u001b[0m \u001b[0mmaterialize\u001b[0m\u001b[1;33m(\u001b[0m\u001b[0mcls\u001b[0m\u001b[1;33m,\u001b[0m \u001b[0mfuture\u001b[0m\u001b[1;33m)\u001b[0m\u001b[1;33m:\u001b[0m\u001b[1;33m\u001b[0m\u001b[1;33m\u001b[0m\u001b[0m\n\u001b[0;32m     29\u001b[0m         \u001b[0mclient\u001b[0m \u001b[1;33m=\u001b[0m \u001b[0m_get_global_client\u001b[0m\u001b[1;33m(\u001b[0m\u001b[1;33m)\u001b[0m\u001b[1;33m\u001b[0m\u001b[1;33m\u001b[0m\u001b[0m\n\u001b[1;32m---> 30\u001b[1;33m         \u001b[1;32mreturn\u001b[0m \u001b[0mclient\u001b[0m\u001b[1;33m.\u001b[0m\u001b[0mgather\u001b[0m\u001b[1;33m(\u001b[0m\u001b[0mfuture\u001b[0m\u001b[1;33m)\u001b[0m\u001b[1;33m\u001b[0m\u001b[1;33m\u001b[0m\u001b[0m\n\u001b[0m",
      "\u001b[1;32m~\\Anaconda3\\envs\\big_tables\\lib\\site-packages\\distributed\\client.py\u001b[0m in \u001b[0;36mgather\u001b[1;34m(self, futures, errors, direct, asynchronous)\u001b[0m\n\u001b[0;32m   1990\u001b[0m                 \u001b[0mdirect\u001b[0m\u001b[1;33m=\u001b[0m\u001b[0mdirect\u001b[0m\u001b[1;33m,\u001b[0m\u001b[1;33m\u001b[0m\u001b[1;33m\u001b[0m\u001b[0m\n\u001b[0;32m   1991\u001b[0m                 \u001b[0mlocal_worker\u001b[0m\u001b[1;33m=\u001b[0m\u001b[0mlocal_worker\u001b[0m\u001b[1;33m,\u001b[0m\u001b[1;33m\u001b[0m\u001b[1;33m\u001b[0m\u001b[0m\n\u001b[1;32m-> 1992\u001b[1;33m                 \u001b[0masynchronous\u001b[0m\u001b[1;33m=\u001b[0m\u001b[0masynchronous\u001b[0m\u001b[1;33m,\u001b[0m\u001b[1;33m\u001b[0m\u001b[1;33m\u001b[0m\u001b[0m\n\u001b[0m\u001b[0;32m   1993\u001b[0m             )\n\u001b[0;32m   1994\u001b[0m \u001b[1;33m\u001b[0m\u001b[0m\n",
      "\u001b[1;32m~\\Anaconda3\\envs\\big_tables\\lib\\site-packages\\distributed\\client.py\u001b[0m in \u001b[0;36msync\u001b[1;34m(self, func, asynchronous, callback_timeout, *args, **kwargs)\u001b[0m\n\u001b[0;32m    831\u001b[0m         \u001b[1;32melse\u001b[0m\u001b[1;33m:\u001b[0m\u001b[1;33m\u001b[0m\u001b[1;33m\u001b[0m\u001b[0m\n\u001b[0;32m    832\u001b[0m             return sync(\n\u001b[1;32m--> 833\u001b[1;33m                 \u001b[0mself\u001b[0m\u001b[1;33m.\u001b[0m\u001b[0mloop\u001b[0m\u001b[1;33m,\u001b[0m \u001b[0mfunc\u001b[0m\u001b[1;33m,\u001b[0m \u001b[1;33m*\u001b[0m\u001b[0margs\u001b[0m\u001b[1;33m,\u001b[0m \u001b[0mcallback_timeout\u001b[0m\u001b[1;33m=\u001b[0m\u001b[0mcallback_timeout\u001b[0m\u001b[1;33m,\u001b[0m \u001b[1;33m**\u001b[0m\u001b[0mkwargs\u001b[0m\u001b[1;33m\u001b[0m\u001b[1;33m\u001b[0m\u001b[0m\n\u001b[0m\u001b[0;32m    834\u001b[0m             )\n\u001b[0;32m    835\u001b[0m \u001b[1;33m\u001b[0m\u001b[0m\n",
      "\u001b[1;32m~\\Anaconda3\\envs\\big_tables\\lib\\site-packages\\distributed\\utils.py\u001b[0m in \u001b[0;36msync\u001b[1;34m(loop, func, callback_timeout, *args, **kwargs)\u001b[0m\n\u001b[0;32m    338\u001b[0m     \u001b[1;32mif\u001b[0m \u001b[0merror\u001b[0m\u001b[1;33m[\u001b[0m\u001b[1;36m0\u001b[0m\u001b[1;33m]\u001b[0m\u001b[1;33m:\u001b[0m\u001b[1;33m\u001b[0m\u001b[1;33m\u001b[0m\u001b[0m\n\u001b[0;32m    339\u001b[0m         \u001b[0mtyp\u001b[0m\u001b[1;33m,\u001b[0m \u001b[0mexc\u001b[0m\u001b[1;33m,\u001b[0m \u001b[0mtb\u001b[0m \u001b[1;33m=\u001b[0m \u001b[0merror\u001b[0m\u001b[1;33m[\u001b[0m\u001b[1;36m0\u001b[0m\u001b[1;33m]\u001b[0m\u001b[1;33m\u001b[0m\u001b[1;33m\u001b[0m\u001b[0m\n\u001b[1;32m--> 340\u001b[1;33m         \u001b[1;32mraise\u001b[0m \u001b[0mexc\u001b[0m\u001b[1;33m.\u001b[0m\u001b[0mwith_traceback\u001b[0m\u001b[1;33m(\u001b[0m\u001b[0mtb\u001b[0m\u001b[1;33m)\u001b[0m\u001b[1;33m\u001b[0m\u001b[1;33m\u001b[0m\u001b[0m\n\u001b[0m\u001b[0;32m    341\u001b[0m     \u001b[1;32melse\u001b[0m\u001b[1;33m:\u001b[0m\u001b[1;33m\u001b[0m\u001b[1;33m\u001b[0m\u001b[0m\n\u001b[0;32m    342\u001b[0m         \u001b[1;32mreturn\u001b[0m \u001b[0mresult\u001b[0m\u001b[1;33m[\u001b[0m\u001b[1;36m0\u001b[0m\u001b[1;33m]\u001b[0m\u001b[1;33m\u001b[0m\u001b[1;33m\u001b[0m\u001b[0m\n",
      "\u001b[1;32m~\\Anaconda3\\envs\\big_tables\\lib\\site-packages\\distributed\\utils.py\u001b[0m in \u001b[0;36mf\u001b[1;34m()\u001b[0m\n\u001b[0;32m    322\u001b[0m             \u001b[1;32mif\u001b[0m \u001b[0mcallback_timeout\u001b[0m \u001b[1;32mis\u001b[0m \u001b[1;32mnot\u001b[0m \u001b[1;32mNone\u001b[0m\u001b[1;33m:\u001b[0m\u001b[1;33m\u001b[0m\u001b[1;33m\u001b[0m\u001b[0m\n\u001b[0;32m    323\u001b[0m                 \u001b[0mfuture\u001b[0m \u001b[1;33m=\u001b[0m \u001b[0masyncio\u001b[0m\u001b[1;33m.\u001b[0m\u001b[0mwait_for\u001b[0m\u001b[1;33m(\u001b[0m\u001b[0mfuture\u001b[0m\u001b[1;33m,\u001b[0m \u001b[0mcallback_timeout\u001b[0m\u001b[1;33m)\u001b[0m\u001b[1;33m\u001b[0m\u001b[1;33m\u001b[0m\u001b[0m\n\u001b[1;32m--> 324\u001b[1;33m             \u001b[0mresult\u001b[0m\u001b[1;33m[\u001b[0m\u001b[1;36m0\u001b[0m\u001b[1;33m]\u001b[0m \u001b[1;33m=\u001b[0m \u001b[1;32myield\u001b[0m \u001b[0mfuture\u001b[0m\u001b[1;33m\u001b[0m\u001b[1;33m\u001b[0m\u001b[0m\n\u001b[0m\u001b[0;32m    325\u001b[0m         \u001b[1;32mexcept\u001b[0m \u001b[0mException\u001b[0m \u001b[1;32mas\u001b[0m \u001b[0mexc\u001b[0m\u001b[1;33m:\u001b[0m\u001b[1;33m\u001b[0m\u001b[1;33m\u001b[0m\u001b[0m\n\u001b[0;32m    326\u001b[0m             \u001b[0merror\u001b[0m\u001b[1;33m[\u001b[0m\u001b[1;36m0\u001b[0m\u001b[1;33m]\u001b[0m \u001b[1;33m=\u001b[0m \u001b[0msys\u001b[0m\u001b[1;33m.\u001b[0m\u001b[0mexc_info\u001b[0m\u001b[1;33m(\u001b[0m\u001b[1;33m)\u001b[0m\u001b[1;33m\u001b[0m\u001b[1;33m\u001b[0m\u001b[0m\n",
      "\u001b[1;32m~\\Anaconda3\\envs\\big_tables\\lib\\site-packages\\tornado\\gen.py\u001b[0m in \u001b[0;36mrun\u001b[1;34m(self)\u001b[0m\n\u001b[0;32m    733\u001b[0m \u001b[1;33m\u001b[0m\u001b[0m\n\u001b[0;32m    734\u001b[0m                     \u001b[1;32mtry\u001b[0m\u001b[1;33m:\u001b[0m\u001b[1;33m\u001b[0m\u001b[1;33m\u001b[0m\u001b[0m\n\u001b[1;32m--> 735\u001b[1;33m                         \u001b[0mvalue\u001b[0m \u001b[1;33m=\u001b[0m \u001b[0mfuture\u001b[0m\u001b[1;33m.\u001b[0m\u001b[0mresult\u001b[0m\u001b[1;33m(\u001b[0m\u001b[1;33m)\u001b[0m\u001b[1;33m\u001b[0m\u001b[1;33m\u001b[0m\u001b[0m\n\u001b[0m\u001b[0;32m    736\u001b[0m                     \u001b[1;32mexcept\u001b[0m \u001b[0mException\u001b[0m\u001b[1;33m:\u001b[0m\u001b[1;33m\u001b[0m\u001b[1;33m\u001b[0m\u001b[0m\n\u001b[0;32m    737\u001b[0m                         \u001b[0mexc_info\u001b[0m \u001b[1;33m=\u001b[0m \u001b[0msys\u001b[0m\u001b[1;33m.\u001b[0m\u001b[0mexc_info\u001b[0m\u001b[1;33m(\u001b[0m\u001b[1;33m)\u001b[0m\u001b[1;33m\u001b[0m\u001b[1;33m\u001b[0m\u001b[0m\n",
      "\u001b[1;32m~\\Anaconda3\\envs\\big_tables\\lib\\site-packages\\distributed\\client.py\u001b[0m in \u001b[0;36m_gather\u001b[1;34m(self, futures, errors, direct, local_worker)\u001b[0m\n\u001b[0;32m   1849\u001b[0m                             \u001b[0mexc\u001b[0m \u001b[1;33m=\u001b[0m \u001b[0mCancelledError\u001b[0m\u001b[1;33m(\u001b[0m\u001b[0mkey\u001b[0m\u001b[1;33m)\u001b[0m\u001b[1;33m\u001b[0m\u001b[1;33m\u001b[0m\u001b[0m\n\u001b[0;32m   1850\u001b[0m                         \u001b[1;32melse\u001b[0m\u001b[1;33m:\u001b[0m\u001b[1;33m\u001b[0m\u001b[1;33m\u001b[0m\u001b[0m\n\u001b[1;32m-> 1851\u001b[1;33m                             \u001b[1;32mraise\u001b[0m \u001b[0mexception\u001b[0m\u001b[1;33m.\u001b[0m\u001b[0mwith_traceback\u001b[0m\u001b[1;33m(\u001b[0m\u001b[0mtraceback\u001b[0m\u001b[1;33m)\u001b[0m\u001b[1;33m\u001b[0m\u001b[1;33m\u001b[0m\u001b[0m\n\u001b[0m\u001b[0;32m   1852\u001b[0m                         \u001b[1;32mraise\u001b[0m \u001b[0mexc\u001b[0m\u001b[1;33m\u001b[0m\u001b[1;33m\u001b[0m\u001b[0m\n\u001b[0;32m   1853\u001b[0m                     \u001b[1;32mif\u001b[0m \u001b[0merrors\u001b[0m \u001b[1;33m==\u001b[0m \u001b[1;34m\"skip\"\u001b[0m\u001b[1;33m:\u001b[0m\u001b[1;33m\u001b[0m\u001b[1;33m\u001b[0m\u001b[0m\n",
      "\u001b[1;31mKilledWorker\u001b[0m: ('lambda-dc847cac2df298f0ded2b3e426e3824d', <Worker 'tcp://127.0.0.1:56445', name: 7, memory: 0, processing: 3>)"
     ]
    }
   ],
   "source": [
    "tool = \"modin\"\n",
    "stats[tool] = {}\n",
    "s = stats[tool]\n",
    "\n",
    "\n",
    "ts = time()\n",
    "df = mpd.read_csv(paths[0])\n",
    "te = time()\n",
    "s[\"load_transactions\"] = te-ts\n",
    "\n",
    "ts = time()\n",
    "df2 = mpd.read_csv(paths[1])\n",
    "te = time()\n",
    "s[\"load_identity\"] = te-ts\n",
    "\n",
    "ts = time()\n",
    "dff = df.merge(df2, on=\"TransactionID\")\n",
    "te = time()\n",
    "s[\"merge\"] = te-ts\n",
    "\n",
    "# modin defaults to pandas for multiple column aggregation and then fails on KeyError, though the key is available\n",
    "ts = time()\n",
    "try:\n",
    "    grp = dff.groupby([\"isFraud\",\"ProductCD\",\"card4\",\"card6\",\"id_15\",\"id_31\"])[\"TransactionAmt\"].agg([\"mean\",\"sum\"])\n",
    "except Exception as e:\n",
    "    print(e)\n",
    "te = time()\n",
    "s[\"aggregation\"] = te-ts\n"
   ]
  },
  {
   "cell_type": "code",
   "execution_count": null,
   "metadata": {
    "ExecuteTime": {
     "end_time": "2020-11-17T22:58:20.241434Z",
     "start_time": "2020-11-17T22:55:17.025Z"
    }
   },
   "outputs": [],
   "source": [
    "pd.DataFrame(stats)"
   ]
  },
  {
   "cell_type": "code",
   "execution_count": 16,
   "metadata": {
    "ExecuteTime": {
     "end_time": "2020-11-17T23:01:01.211911Z",
     "start_time": "2020-11-17T23:00:45.850513Z"
    }
   },
   "outputs": [
    {
     "name": "stderr",
     "output_type": "stream",
     "text": [
      "distributed.nanny - WARNING - Worker exceeded 95% memory budget. Restarting\n",
      "distributed.nanny - WARNING - Restarting worker\n",
      "distributed.nanny - WARNING - Worker exceeded 95% memory budget. Restarting\n",
      "distributed.nanny - WARNING - Restarting worker\n",
      "distributed.nanny - WARNING - Worker exceeded 95% memory budget. Restarting\n",
      "distributed.nanny - WARNING - Restarting worker\n"
     ]
    }
   ],
   "source": [
    "clean()"
   ]
  }
 ],
 "metadata": {
  "kernelspec": {
   "display_name": "big-tables",
   "language": "python",
   "name": "big-tables"
  },
  "language_info": {
   "codemirror_mode": {
    "name": "ipython",
    "version": 3
   },
   "file_extension": ".py",
   "mimetype": "text/x-python",
   "name": "python",
   "nbconvert_exporter": "python",
   "pygments_lexer": "ipython3",
   "version": "3.8.5"
  },
  "toc": {
   "base_numbering": 1,
   "nav_menu": {},
   "number_sections": true,
   "sideBar": true,
   "skip_h1_title": false,
   "title_cell": "Table of Contents",
   "title_sidebar": "Contents",
   "toc_cell": false,
   "toc_position": {},
   "toc_section_display": true,
   "toc_window_display": false
  },
  "varInspector": {
   "cols": {
    "lenName": 16,
    "lenType": 16,
    "lenVar": 40
   },
   "kernels_config": {
    "python": {
     "delete_cmd_postfix": "",
     "delete_cmd_prefix": "del ",
     "library": "var_list.py",
     "varRefreshCmd": "print(var_dic_list())"
    },
    "r": {
     "delete_cmd_postfix": ") ",
     "delete_cmd_prefix": "rm(",
     "library": "var_list.r",
     "varRefreshCmd": "cat(var_dic_list()) "
    }
   },
   "types_to_exclude": [
    "module",
    "function",
    "builtin_function_or_method",
    "instance",
    "_Feature"
   ],
   "window_display": false
  }
 },
 "nbformat": 4,
 "nbformat_minor": 2
}
